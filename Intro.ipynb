{
 "cells": [
  {
   "cell_type": "markdown",
   "id": "b9f72b43",
   "metadata": {},
   "source": [
    "# PythonPandas\n",
    "## Importación de librerías"
   ]
  },
  {
   "cell_type": "code",
   "execution_count": 95,
   "id": "654e7966",
   "metadata": {},
   "outputs": [],
   "source": [
    "import numpy as np\n",
    "import pandas as pd\n",
    "import random\n",
    "import matplotlib.pyplot as plt"
   ]
  },
  {
   "cell_type": "code",
   "execution_count": 37,
   "id": "983acb79",
   "metadata": {},
   "outputs": [],
   "source": [
    "df = pd.read_csv(\"Data/untitled.csv\")"
   ]
  },
  {
   "cell_type": "code",
   "execution_count": 19,
   "id": "59568466",
   "metadata": {},
   "outputs": [
    {
     "data": {
      "text/html": [
       "<div>\n",
       "<style scoped>\n",
       "    .dataframe tbody tr th:only-of-type {\n",
       "        vertical-align: middle;\n",
       "    }\n",
       "\n",
       "    .dataframe tbody tr th {\n",
       "        vertical-align: top;\n",
       "    }\n",
       "\n",
       "    .dataframe thead th {\n",
       "        text-align: right;\n",
       "    }\n",
       "</style>\n",
       "<table border=\"1\" class=\"dataframe\">\n",
       "  <thead>\n",
       "    <tr style=\"text-align: right;\">\n",
       "      <th></th>\n",
       "      <th>QuotaAmount</th>\n",
       "      <th>StartDate</th>\n",
       "      <th>OwnerName</th>\n",
       "      <th>Username</th>\n",
       "    </tr>\n",
       "  </thead>\n",
       "  <tbody>\n",
       "    <tr>\n",
       "      <th>0</th>\n",
       "      <td>150000</td>\n",
       "      <td>2016-01-01</td>\n",
       "      <td>Chris Riley</td>\n",
       "      <td>trailhead9.ub20k5i9t8ou@example.com</td>\n",
       "    </tr>\n",
       "    <tr>\n",
       "      <th>1</th>\n",
       "      <td>150000</td>\n",
       "      <td>2016-02-01</td>\n",
       "      <td>Chris Riley</td>\n",
       "      <td>trailhead9.ub20k5i9t8ou@example.com</td>\n",
       "    </tr>\n",
       "    <tr>\n",
       "      <th>2</th>\n",
       "      <td>150000</td>\n",
       "      <td>2016-03-01</td>\n",
       "      <td>Chris Riley</td>\n",
       "      <td>trailhead9.ub20k5i9t8ou@example.com</td>\n",
       "    </tr>\n",
       "    <tr>\n",
       "      <th>3</th>\n",
       "      <td>150000</td>\n",
       "      <td>2016-01-01</td>\n",
       "      <td>Harold Campbell</td>\n",
       "      <td>trailhead14.jibpbwvuy67t@example.com</td>\n",
       "    </tr>\n",
       "    <tr>\n",
       "      <th>4</th>\n",
       "      <td>150000</td>\n",
       "      <td>2016-02-01</td>\n",
       "      <td>Harold Campbell</td>\n",
       "      <td>trailhead14.jibpbwvuy67t@example.com</td>\n",
       "    </tr>\n",
       "    <tr>\n",
       "      <th>5</th>\n",
       "      <td>150000</td>\n",
       "      <td>2016-03-01</td>\n",
       "      <td>Harold Campbell</td>\n",
       "      <td>trailhead14.jibpbwvuy67t@example.com</td>\n",
       "    </tr>\n",
       "    <tr>\n",
       "      <th>6</th>\n",
       "      <td>150000</td>\n",
       "      <td>2016-01-01</td>\n",
       "      <td>Jessica Nichols</td>\n",
       "      <td>trailhead19.d1fxj2goytkp@example.com</td>\n",
       "    </tr>\n",
       "    <tr>\n",
       "      <th>7</th>\n",
       "      <td>150000</td>\n",
       "      <td>2016-02-01</td>\n",
       "      <td>Jessica Nichols</td>\n",
       "      <td>trailhead19.d1fxj2goytkp@example.com</td>\n",
       "    </tr>\n",
       "    <tr>\n",
       "      <th>8</th>\n",
       "      <td>150000</td>\n",
       "      <td>2016-03-01</td>\n",
       "      <td>Jessica Nichols</td>\n",
       "      <td>trailhead19.d1fxj2goytkp@example.com</td>\n",
       "    </tr>\n",
       "    <tr>\n",
       "      <th>9</th>\n",
       "      <td>150000</td>\n",
       "      <td>2016-01-01</td>\n",
       "      <td>Catherine Brown</td>\n",
       "      <td>trailhead16.kojyepokybge@example.com</td>\n",
       "    </tr>\n",
       "    <tr>\n",
       "      <th>10</th>\n",
       "      <td>150000</td>\n",
       "      <td>2016-02-01</td>\n",
       "      <td>Catherine Brown</td>\n",
       "      <td>trailhead16.kojyepokybge@example.com</td>\n",
       "    </tr>\n",
       "    <tr>\n",
       "      <th>11</th>\n",
       "      <td>150000</td>\n",
       "      <td>2016-03-01</td>\n",
       "      <td>Catherine Brown</td>\n",
       "      <td>trailhead16.kojyepokybge@example.com</td>\n",
       "    </tr>\n",
       "    <tr>\n",
       "      <th>12</th>\n",
       "      <td>150000</td>\n",
       "      <td>2016-01-01</td>\n",
       "      <td>Kelly Frazier</td>\n",
       "      <td>trailhead7.zdcsy4ax10mr@example.com</td>\n",
       "    </tr>\n",
       "    <tr>\n",
       "      <th>13</th>\n",
       "      <td>150000</td>\n",
       "      <td>2016-02-01</td>\n",
       "      <td>Kelly Frazier</td>\n",
       "      <td>trailhead7.zdcsy4ax10mr@example.com</td>\n",
       "    </tr>\n",
       "    <tr>\n",
       "      <th>14</th>\n",
       "      <td>150000</td>\n",
       "      <td>2016-03-01</td>\n",
       "      <td>Kelly Frazier</td>\n",
       "      <td>trailhead7.zdcsy4ax10mr@example.com</td>\n",
       "    </tr>\n",
       "    <tr>\n",
       "      <th>15</th>\n",
       "      <td>150000</td>\n",
       "      <td>2016-01-01</td>\n",
       "      <td>Dennis Howard</td>\n",
       "      <td>trailhead4.wfokpckfroxp@example.com</td>\n",
       "    </tr>\n",
       "    <tr>\n",
       "      <th>16</th>\n",
       "      <td>150000</td>\n",
       "      <td>2016-02-01</td>\n",
       "      <td>Dennis Howard</td>\n",
       "      <td>trailhead4.wfokpckfroxp@example.com</td>\n",
       "    </tr>\n",
       "    <tr>\n",
       "      <th>17</th>\n",
       "      <td>150000</td>\n",
       "      <td>2016-03-01</td>\n",
       "      <td>Dennis Howard</td>\n",
       "      <td>trailhead4.wfokpckfroxp@example.com</td>\n",
       "    </tr>\n",
       "  </tbody>\n",
       "</table>\n",
       "</div>"
      ],
      "text/plain": [
       "    QuotaAmount   StartDate        OwnerName  \\\n",
       "0        150000  2016-01-01      Chris Riley   \n",
       "1        150000  2016-02-01      Chris Riley   \n",
       "2        150000  2016-03-01      Chris Riley   \n",
       "3        150000  2016-01-01  Harold Campbell   \n",
       "4        150000  2016-02-01  Harold Campbell   \n",
       "5        150000  2016-03-01  Harold Campbell   \n",
       "6        150000  2016-01-01  Jessica Nichols   \n",
       "7        150000  2016-02-01  Jessica Nichols   \n",
       "8        150000  2016-03-01  Jessica Nichols   \n",
       "9        150000  2016-01-01  Catherine Brown   \n",
       "10       150000  2016-02-01  Catherine Brown   \n",
       "11       150000  2016-03-01  Catherine Brown   \n",
       "12       150000  2016-01-01    Kelly Frazier   \n",
       "13       150000  2016-02-01    Kelly Frazier   \n",
       "14       150000  2016-03-01    Kelly Frazier   \n",
       "15       150000  2016-01-01    Dennis Howard   \n",
       "16       150000  2016-02-01    Dennis Howard   \n",
       "17       150000  2016-03-01    Dennis Howard   \n",
       "\n",
       "                                Username  \n",
       "0    trailhead9.ub20k5i9t8ou@example.com  \n",
       "1    trailhead9.ub20k5i9t8ou@example.com  \n",
       "2    trailhead9.ub20k5i9t8ou@example.com  \n",
       "3   trailhead14.jibpbwvuy67t@example.com  \n",
       "4   trailhead14.jibpbwvuy67t@example.com  \n",
       "5   trailhead14.jibpbwvuy67t@example.com  \n",
       "6   trailhead19.d1fxj2goytkp@example.com  \n",
       "7   trailhead19.d1fxj2goytkp@example.com  \n",
       "8   trailhead19.d1fxj2goytkp@example.com  \n",
       "9   trailhead16.kojyepokybge@example.com  \n",
       "10  trailhead16.kojyepokybge@example.com  \n",
       "11  trailhead16.kojyepokybge@example.com  \n",
       "12   trailhead7.zdcsy4ax10mr@example.com  \n",
       "13   trailhead7.zdcsy4ax10mr@example.com  \n",
       "14   trailhead7.zdcsy4ax10mr@example.com  \n",
       "15   trailhead4.wfokpckfroxp@example.com  \n",
       "16   trailhead4.wfokpckfroxp@example.com  \n",
       "17   trailhead4.wfokpckfroxp@example.com  "
      ]
     },
     "execution_count": 19,
     "metadata": {},
     "output_type": "execute_result"
    }
   ],
   "source": [
    "df"
   ]
  },
  {
   "cell_type": "markdown",
   "id": "b6debc77",
   "metadata": {},
   "source": [
    "## Creación de series"
   ]
  },
  {
   "cell_type": "code",
   "execution_count": 22,
   "id": "0aafa50c",
   "metadata": {},
   "outputs": [],
   "source": [
    "entradas = pd.Series([11, 18, 12, 16, 9, 16, 22, 28, 31, 29, 30, 12],\n",
    "            index = [\"ene\", \"feb\", \"mar\", \"abr\", \"may\", \"jun\", \"jul\", \"ago\",\n",
    "             \"sep\", \"oct\", \"nov\", \"dic\"])"
   ]
  },
  {
   "cell_type": "code",
   "execution_count": 24,
   "id": "fc3cd8cd",
   "metadata": {},
   "outputs": [],
   "source": [
    "salidas = pd.Series([9, 26, 18, 15, 6, 22, 19, 25, 34, 22, 21, 14],\n",
    "            index = [\"ene\", \"feb\", \"mar\", \"abr\", \"may\", \"jun\", \"jul\", \"ago\",\n",
    "             \"sep\", \"oct\", \"nov\", \"dic\"])"
   ]
  },
  {
   "cell_type": "code",
   "execution_count": 26,
   "id": "bed71f29",
   "metadata": {},
   "outputs": [],
   "source": [
    "almacén = pd.DataFrame({\"entradas\": entradas, \"salidas\": salidas})\n",
    "almacén[\"neto\"] = almacén.entradas - almacén.salidas"
   ]
  },
  {
   "cell_type": "code",
   "execution_count": 27,
   "id": "cc26b8d2",
   "metadata": {},
   "outputs": [
    {
     "data": {
      "text/html": [
       "<div>\n",
       "<style scoped>\n",
       "    .dataframe tbody tr th:only-of-type {\n",
       "        vertical-align: middle;\n",
       "    }\n",
       "\n",
       "    .dataframe tbody tr th {\n",
       "        vertical-align: top;\n",
       "    }\n",
       "\n",
       "    .dataframe thead th {\n",
       "        text-align: right;\n",
       "    }\n",
       "</style>\n",
       "<table border=\"1\" class=\"dataframe\">\n",
       "  <thead>\n",
       "    <tr style=\"text-align: right;\">\n",
       "      <th></th>\n",
       "      <th>entradas</th>\n",
       "      <th>salidas</th>\n",
       "      <th>neto</th>\n",
       "    </tr>\n",
       "  </thead>\n",
       "  <tbody>\n",
       "    <tr>\n",
       "      <th>ene</th>\n",
       "      <td>11</td>\n",
       "      <td>9</td>\n",
       "      <td>2</td>\n",
       "    </tr>\n",
       "    <tr>\n",
       "      <th>feb</th>\n",
       "      <td>18</td>\n",
       "      <td>26</td>\n",
       "      <td>-8</td>\n",
       "    </tr>\n",
       "    <tr>\n",
       "      <th>mar</th>\n",
       "      <td>12</td>\n",
       "      <td>18</td>\n",
       "      <td>-6</td>\n",
       "    </tr>\n",
       "    <tr>\n",
       "      <th>abr</th>\n",
       "      <td>16</td>\n",
       "      <td>15</td>\n",
       "      <td>1</td>\n",
       "    </tr>\n",
       "    <tr>\n",
       "      <th>may</th>\n",
       "      <td>9</td>\n",
       "      <td>6</td>\n",
       "      <td>3</td>\n",
       "    </tr>\n",
       "    <tr>\n",
       "      <th>jun</th>\n",
       "      <td>16</td>\n",
       "      <td>22</td>\n",
       "      <td>-6</td>\n",
       "    </tr>\n",
       "    <tr>\n",
       "      <th>jul</th>\n",
       "      <td>22</td>\n",
       "      <td>19</td>\n",
       "      <td>3</td>\n",
       "    </tr>\n",
       "    <tr>\n",
       "      <th>ago</th>\n",
       "      <td>28</td>\n",
       "      <td>25</td>\n",
       "      <td>3</td>\n",
       "    </tr>\n",
       "    <tr>\n",
       "      <th>sep</th>\n",
       "      <td>31</td>\n",
       "      <td>34</td>\n",
       "      <td>-3</td>\n",
       "    </tr>\n",
       "    <tr>\n",
       "      <th>oct</th>\n",
       "      <td>29</td>\n",
       "      <td>22</td>\n",
       "      <td>7</td>\n",
       "    </tr>\n",
       "    <tr>\n",
       "      <th>nov</th>\n",
       "      <td>30</td>\n",
       "      <td>21</td>\n",
       "      <td>9</td>\n",
       "    </tr>\n",
       "    <tr>\n",
       "      <th>dic</th>\n",
       "      <td>12</td>\n",
       "      <td>14</td>\n",
       "      <td>-2</td>\n",
       "    </tr>\n",
       "  </tbody>\n",
       "</table>\n",
       "</div>"
      ],
      "text/plain": [
       "     entradas  salidas  neto\n",
       "ene        11        9     2\n",
       "feb        18       26    -8\n",
       "mar        12       18    -6\n",
       "abr        16       15     1\n",
       "may         9        6     3\n",
       "jun        16       22    -6\n",
       "jul        22       19     3\n",
       "ago        28       25     3\n",
       "sep        31       34    -3\n",
       "oct        29       22     7\n",
       "nov        30       21     9\n",
       "dic        12       14    -2"
      ]
     },
     "execution_count": 27,
     "metadata": {},
     "output_type": "execute_result"
    }
   ],
   "source": [
    "almacén"
   ]
  },
  {
   "cell_type": "markdown",
   "id": "dec3a00c",
   "metadata": {},
   "source": [
    "## Funciones"
   ]
  },
  {
   "cell_type": "code",
   "execution_count": 31,
   "id": "5c299062",
   "metadata": {},
   "outputs": [
    {
     "data": {
      "text/html": [
       "<div>\n",
       "<style scoped>\n",
       "    .dataframe tbody tr th:only-of-type {\n",
       "        vertical-align: middle;\n",
       "    }\n",
       "\n",
       "    .dataframe tbody tr th {\n",
       "        vertical-align: top;\n",
       "    }\n",
       "\n",
       "    .dataframe thead th {\n",
       "        text-align: right;\n",
       "    }\n",
       "</style>\n",
       "<table border=\"1\" class=\"dataframe\">\n",
       "  <thead>\n",
       "    <tr style=\"text-align: right;\">\n",
       "      <th></th>\n",
       "      <th>entradas</th>\n",
       "      <th>salidas</th>\n",
       "      <th>neto</th>\n",
       "    </tr>\n",
       "  </thead>\n",
       "  <tbody>\n",
       "    <tr>\n",
       "      <th>ene</th>\n",
       "      <td>11</td>\n",
       "      <td>9</td>\n",
       "      <td>2</td>\n",
       "    </tr>\n",
       "    <tr>\n",
       "      <th>feb</th>\n",
       "      <td>18</td>\n",
       "      <td>26</td>\n",
       "      <td>-8</td>\n",
       "    </tr>\n",
       "    <tr>\n",
       "      <th>mar</th>\n",
       "      <td>12</td>\n",
       "      <td>18</td>\n",
       "      <td>-6</td>\n",
       "    </tr>\n",
       "    <tr>\n",
       "      <th>abr</th>\n",
       "      <td>16</td>\n",
       "      <td>15</td>\n",
       "      <td>1</td>\n",
       "    </tr>\n",
       "    <tr>\n",
       "      <th>may</th>\n",
       "      <td>9</td>\n",
       "      <td>6</td>\n",
       "      <td>3</td>\n",
       "    </tr>\n",
       "  </tbody>\n",
       "</table>\n",
       "</div>"
      ],
      "text/plain": [
       "     entradas  salidas  neto\n",
       "ene        11        9     2\n",
       "feb        18       26    -8\n",
       "mar        12       18    -6\n",
       "abr        16       15     1\n",
       "may         9        6     3"
      ]
     },
     "execution_count": 31,
     "metadata": {},
     "output_type": "execute_result"
    }
   ],
   "source": [
    "almacén.head()"
   ]
  },
  {
   "cell_type": "code",
   "execution_count": 32,
   "id": "b926346a",
   "metadata": {},
   "outputs": [
    {
     "data": {
      "text/html": [
       "<div>\n",
       "<style scoped>\n",
       "    .dataframe tbody tr th:only-of-type {\n",
       "        vertical-align: middle;\n",
       "    }\n",
       "\n",
       "    .dataframe tbody tr th {\n",
       "        vertical-align: top;\n",
       "    }\n",
       "\n",
       "    .dataframe thead th {\n",
       "        text-align: right;\n",
       "    }\n",
       "</style>\n",
       "<table border=\"1\" class=\"dataframe\">\n",
       "  <thead>\n",
       "    <tr style=\"text-align: right;\">\n",
       "      <th></th>\n",
       "      <th>entradas</th>\n",
       "      <th>salidas</th>\n",
       "      <th>neto</th>\n",
       "    </tr>\n",
       "  </thead>\n",
       "  <tbody>\n",
       "    <tr>\n",
       "      <th>ago</th>\n",
       "      <td>28</td>\n",
       "      <td>25</td>\n",
       "      <td>3</td>\n",
       "    </tr>\n",
       "    <tr>\n",
       "      <th>sep</th>\n",
       "      <td>31</td>\n",
       "      <td>34</td>\n",
       "      <td>-3</td>\n",
       "    </tr>\n",
       "    <tr>\n",
       "      <th>oct</th>\n",
       "      <td>29</td>\n",
       "      <td>22</td>\n",
       "      <td>7</td>\n",
       "    </tr>\n",
       "    <tr>\n",
       "      <th>nov</th>\n",
       "      <td>30</td>\n",
       "      <td>21</td>\n",
       "      <td>9</td>\n",
       "    </tr>\n",
       "    <tr>\n",
       "      <th>dic</th>\n",
       "      <td>12</td>\n",
       "      <td>14</td>\n",
       "      <td>-2</td>\n",
       "    </tr>\n",
       "  </tbody>\n",
       "</table>\n",
       "</div>"
      ],
      "text/plain": [
       "     entradas  salidas  neto\n",
       "ago        28       25     3\n",
       "sep        31       34    -3\n",
       "oct        29       22     7\n",
       "nov        30       21     9\n",
       "dic        12       14    -2"
      ]
     },
     "execution_count": 32,
     "metadata": {},
     "output_type": "execute_result"
    }
   ],
   "source": [
    "almacén.tail()"
   ]
  },
  {
   "cell_type": "code",
   "execution_count": 33,
   "id": "20d7e38a",
   "metadata": {},
   "outputs": [
    {
     "data": {
      "text/html": [
       "<div>\n",
       "<style scoped>\n",
       "    .dataframe tbody tr th:only-of-type {\n",
       "        vertical-align: middle;\n",
       "    }\n",
       "\n",
       "    .dataframe tbody tr th {\n",
       "        vertical-align: top;\n",
       "    }\n",
       "\n",
       "    .dataframe thead th {\n",
       "        text-align: right;\n",
       "    }\n",
       "</style>\n",
       "<table border=\"1\" class=\"dataframe\">\n",
       "  <thead>\n",
       "    <tr style=\"text-align: right;\">\n",
       "      <th></th>\n",
       "      <th>entradas</th>\n",
       "      <th>salidas</th>\n",
       "      <th>neto</th>\n",
       "    </tr>\n",
       "  </thead>\n",
       "  <tbody>\n",
       "    <tr>\n",
       "      <th>count</th>\n",
       "      <td>12.00000</td>\n",
       "      <td>12.000000</td>\n",
       "      <td>12.000000</td>\n",
       "    </tr>\n",
       "    <tr>\n",
       "      <th>mean</th>\n",
       "      <td>19.50000</td>\n",
       "      <td>19.250000</td>\n",
       "      <td>0.250000</td>\n",
       "    </tr>\n",
       "    <tr>\n",
       "      <th>std</th>\n",
       "      <td>8.16311</td>\n",
       "      <td>7.641097</td>\n",
       "      <td>5.310795</td>\n",
       "    </tr>\n",
       "    <tr>\n",
       "      <th>min</th>\n",
       "      <td>9.00000</td>\n",
       "      <td>6.000000</td>\n",
       "      <td>-8.000000</td>\n",
       "    </tr>\n",
       "    <tr>\n",
       "      <th>25%</th>\n",
       "      <td>12.00000</td>\n",
       "      <td>14.750000</td>\n",
       "      <td>-3.750000</td>\n",
       "    </tr>\n",
       "    <tr>\n",
       "      <th>50%</th>\n",
       "      <td>17.00000</td>\n",
       "      <td>20.000000</td>\n",
       "      <td>1.500000</td>\n",
       "    </tr>\n",
       "    <tr>\n",
       "      <th>75%</th>\n",
       "      <td>28.25000</td>\n",
       "      <td>22.750000</td>\n",
       "      <td>3.000000</td>\n",
       "    </tr>\n",
       "    <tr>\n",
       "      <th>max</th>\n",
       "      <td>31.00000</td>\n",
       "      <td>34.000000</td>\n",
       "      <td>9.000000</td>\n",
       "    </tr>\n",
       "  </tbody>\n",
       "</table>\n",
       "</div>"
      ],
      "text/plain": [
       "       entradas    salidas       neto\n",
       "count  12.00000  12.000000  12.000000\n",
       "mean   19.50000  19.250000   0.250000\n",
       "std     8.16311   7.641097   5.310795\n",
       "min     9.00000   6.000000  -8.000000\n",
       "25%    12.00000  14.750000  -3.750000\n",
       "50%    17.00000  20.000000   1.500000\n",
       "75%    28.25000  22.750000   3.000000\n",
       "max    31.00000  34.000000   9.000000"
      ]
     },
     "execution_count": 33,
     "metadata": {},
     "output_type": "execute_result"
    }
   ],
   "source": [
    "almacén.describe()"
   ]
  },
  {
   "cell_type": "markdown",
   "id": "6b41f41e",
   "metadata": {},
   "source": [
    "## Filtros"
   ]
  },
  {
   "cell_type": "code",
   "execution_count": 44,
   "id": "1e2044ab",
   "metadata": {},
   "outputs": [
    {
     "data": {
      "text/plain": [
       "ene    2\n",
       "feb   -8\n",
       "mar   -6\n",
       "abr    1\n",
       "may    3\n",
       "jun   -6\n",
       "jul    3\n",
       "ago    3\n",
       "sep   -3\n",
       "oct    7\n",
       "nov    9\n",
       "dic   -2\n",
       "Name: neto, dtype: int64"
      ]
     },
     "execution_count": 44,
     "metadata": {},
     "output_type": "execute_result"
    }
   ],
   "source": [
    "almacén[\"neto\"]"
   ]
  },
  {
   "cell_type": "code",
   "execution_count": 50,
   "id": "d0f2ba62",
   "metadata": {},
   "outputs": [
    {
     "data": {
      "text/html": [
       "<div>\n",
       "<style scoped>\n",
       "    .dataframe tbody tr th:only-of-type {\n",
       "        vertical-align: middle;\n",
       "    }\n",
       "\n",
       "    .dataframe tbody tr th {\n",
       "        vertical-align: top;\n",
       "    }\n",
       "\n",
       "    .dataframe thead th {\n",
       "        text-align: right;\n",
       "    }\n",
       "</style>\n",
       "<table border=\"1\" class=\"dataframe\">\n",
       "  <thead>\n",
       "    <tr style=\"text-align: right;\">\n",
       "      <th></th>\n",
       "      <th>entradas</th>\n",
       "      <th>salidas</th>\n",
       "    </tr>\n",
       "  </thead>\n",
       "  <tbody>\n",
       "    <tr>\n",
       "      <th>ene</th>\n",
       "      <td>11</td>\n",
       "      <td>9</td>\n",
       "    </tr>\n",
       "    <tr>\n",
       "      <th>feb</th>\n",
       "      <td>18</td>\n",
       "      <td>26</td>\n",
       "    </tr>\n",
       "    <tr>\n",
       "      <th>mar</th>\n",
       "      <td>12</td>\n",
       "      <td>18</td>\n",
       "    </tr>\n",
       "    <tr>\n",
       "      <th>abr</th>\n",
       "      <td>16</td>\n",
       "      <td>15</td>\n",
       "    </tr>\n",
       "    <tr>\n",
       "      <th>may</th>\n",
       "      <td>9</td>\n",
       "      <td>6</td>\n",
       "    </tr>\n",
       "    <tr>\n",
       "      <th>jun</th>\n",
       "      <td>16</td>\n",
       "      <td>22</td>\n",
       "    </tr>\n",
       "    <tr>\n",
       "      <th>jul</th>\n",
       "      <td>22</td>\n",
       "      <td>19</td>\n",
       "    </tr>\n",
       "    <tr>\n",
       "      <th>ago</th>\n",
       "      <td>28</td>\n",
       "      <td>25</td>\n",
       "    </tr>\n",
       "    <tr>\n",
       "      <th>sep</th>\n",
       "      <td>31</td>\n",
       "      <td>34</td>\n",
       "    </tr>\n",
       "    <tr>\n",
       "      <th>oct</th>\n",
       "      <td>29</td>\n",
       "      <td>22</td>\n",
       "    </tr>\n",
       "    <tr>\n",
       "      <th>nov</th>\n",
       "      <td>30</td>\n",
       "      <td>21</td>\n",
       "    </tr>\n",
       "    <tr>\n",
       "      <th>dic</th>\n",
       "      <td>12</td>\n",
       "      <td>14</td>\n",
       "    </tr>\n",
       "  </tbody>\n",
       "</table>\n",
       "</div>"
      ],
      "text/plain": [
       "     entradas  salidas\n",
       "ene        11        9\n",
       "feb        18       26\n",
       "mar        12       18\n",
       "abr        16       15\n",
       "may         9        6\n",
       "jun        16       22\n",
       "jul        22       19\n",
       "ago        28       25\n",
       "sep        31       34\n",
       "oct        29       22\n",
       "nov        30       21\n",
       "dic        12       14"
      ]
     },
     "execution_count": 50,
     "metadata": {},
     "output_type": "execute_result"
    }
   ],
   "source": [
    "almacén[[\"entradas\",\"salidas\"]]"
   ]
  },
  {
   "cell_type": "code",
   "execution_count": 53,
   "id": "d879351d",
   "metadata": {},
   "outputs": [
    {
     "data": {
      "text/plain": [
       "QuotaAmount                                 150000\n",
       "StartDate                               2016-01-01\n",
       "OwnerName                              Chris Riley\n",
       "Username       trailhead9.ub20k5i9t8ou@example.com\n",
       "Name: 0, dtype: object"
      ]
     },
     "execution_count": 53,
     "metadata": {},
     "output_type": "execute_result"
    }
   ],
   "source": [
    "df.iloc[0]"
   ]
  },
  {
   "cell_type": "code",
   "execution_count": 54,
   "id": "e5884125",
   "metadata": {},
   "outputs": [
    {
     "data": {
      "text/html": [
       "<div>\n",
       "<style scoped>\n",
       "    .dataframe tbody tr th:only-of-type {\n",
       "        vertical-align: middle;\n",
       "    }\n",
       "\n",
       "    .dataframe tbody tr th {\n",
       "        vertical-align: top;\n",
       "    }\n",
       "\n",
       "    .dataframe thead th {\n",
       "        text-align: right;\n",
       "    }\n",
       "</style>\n",
       "<table border=\"1\" class=\"dataframe\">\n",
       "  <thead>\n",
       "    <tr style=\"text-align: right;\">\n",
       "      <th></th>\n",
       "      <th>QuotaAmount</th>\n",
       "      <th>StartDate</th>\n",
       "      <th>OwnerName</th>\n",
       "      <th>Username</th>\n",
       "    </tr>\n",
       "  </thead>\n",
       "  <tbody>\n",
       "    <tr>\n",
       "      <th>0</th>\n",
       "      <td>150000</td>\n",
       "      <td>2016-01-01</td>\n",
       "      <td>Chris Riley</td>\n",
       "      <td>trailhead9.ub20k5i9t8ou@example.com</td>\n",
       "    </tr>\n",
       "    <tr>\n",
       "      <th>1</th>\n",
       "      <td>150000</td>\n",
       "      <td>2016-02-01</td>\n",
       "      <td>Chris Riley</td>\n",
       "      <td>trailhead9.ub20k5i9t8ou@example.com</td>\n",
       "    </tr>\n",
       "    <tr>\n",
       "      <th>2</th>\n",
       "      <td>150000</td>\n",
       "      <td>2016-03-01</td>\n",
       "      <td>Chris Riley</td>\n",
       "      <td>trailhead9.ub20k5i9t8ou@example.com</td>\n",
       "    </tr>\n",
       "    <tr>\n",
       "      <th>3</th>\n",
       "      <td>150000</td>\n",
       "      <td>2016-01-01</td>\n",
       "      <td>Harold Campbell</td>\n",
       "      <td>trailhead14.jibpbwvuy67t@example.com</td>\n",
       "    </tr>\n",
       "  </tbody>\n",
       "</table>\n",
       "</div>"
      ],
      "text/plain": [
       "   QuotaAmount   StartDate        OwnerName  \\\n",
       "0       150000  2016-01-01      Chris Riley   \n",
       "1       150000  2016-02-01      Chris Riley   \n",
       "2       150000  2016-03-01      Chris Riley   \n",
       "3       150000  2016-01-01  Harold Campbell   \n",
       "\n",
       "                               Username  \n",
       "0   trailhead9.ub20k5i9t8ou@example.com  \n",
       "1   trailhead9.ub20k5i9t8ou@example.com  \n",
       "2   trailhead9.ub20k5i9t8ou@example.com  \n",
       "3  trailhead14.jibpbwvuy67t@example.com  "
      ]
     },
     "execution_count": 54,
     "metadata": {},
     "output_type": "execute_result"
    }
   ],
   "source": [
    "df.iloc[0:4]"
   ]
  },
  {
   "cell_type": "code",
   "execution_count": 55,
   "id": "17282946",
   "metadata": {},
   "outputs": [
    {
     "data": {
      "text/html": [
       "<div>\n",
       "<style scoped>\n",
       "    .dataframe tbody tr th:only-of-type {\n",
       "        vertical-align: middle;\n",
       "    }\n",
       "\n",
       "    .dataframe tbody tr th {\n",
       "        vertical-align: top;\n",
       "    }\n",
       "\n",
       "    .dataframe thead th {\n",
       "        text-align: right;\n",
       "    }\n",
       "</style>\n",
       "<table border=\"1\" class=\"dataframe\">\n",
       "  <thead>\n",
       "    <tr style=\"text-align: right;\">\n",
       "      <th></th>\n",
       "      <th>QuotaAmount</th>\n",
       "      <th>StartDate</th>\n",
       "      <th>OwnerName</th>\n",
       "      <th>Username</th>\n",
       "    </tr>\n",
       "  </thead>\n",
       "  <tbody>\n",
       "    <tr>\n",
       "      <th>0</th>\n",
       "      <td>150000</td>\n",
       "      <td>2016-01-01</td>\n",
       "      <td>Chris Riley</td>\n",
       "      <td>trailhead9.ub20k5i9t8ou@example.com</td>\n",
       "    </tr>\n",
       "    <tr>\n",
       "      <th>1</th>\n",
       "      <td>150000</td>\n",
       "      <td>2016-02-01</td>\n",
       "      <td>Chris Riley</td>\n",
       "      <td>trailhead9.ub20k5i9t8ou@example.com</td>\n",
       "    </tr>\n",
       "    <tr>\n",
       "      <th>9</th>\n",
       "      <td>150000</td>\n",
       "      <td>2016-01-01</td>\n",
       "      <td>Catherine Brown</td>\n",
       "      <td>trailhead16.kojyepokybge@example.com</td>\n",
       "    </tr>\n",
       "  </tbody>\n",
       "</table>\n",
       "</div>"
      ],
      "text/plain": [
       "   QuotaAmount   StartDate        OwnerName  \\\n",
       "0       150000  2016-01-01      Chris Riley   \n",
       "1       150000  2016-02-01      Chris Riley   \n",
       "9       150000  2016-01-01  Catherine Brown   \n",
       "\n",
       "                               Username  \n",
       "0   trailhead9.ub20k5i9t8ou@example.com  \n",
       "1   trailhead9.ub20k5i9t8ou@example.com  \n",
       "9  trailhead16.kojyepokybge@example.com  "
      ]
     },
     "execution_count": 55,
     "metadata": {},
     "output_type": "execute_result"
    }
   ],
   "source": [
    "df.iloc[[0,1,9]]"
   ]
  },
  {
   "cell_type": "code",
   "execution_count": 63,
   "id": "07cf4535",
   "metadata": {},
   "outputs": [
    {
     "data": {
      "text/html": [
       "<div>\n",
       "<style scoped>\n",
       "    .dataframe tbody tr th:only-of-type {\n",
       "        vertical-align: middle;\n",
       "    }\n",
       "\n",
       "    .dataframe tbody tr th {\n",
       "        vertical-align: top;\n",
       "    }\n",
       "\n",
       "    .dataframe thead th {\n",
       "        text-align: right;\n",
       "    }\n",
       "</style>\n",
       "<table border=\"1\" class=\"dataframe\">\n",
       "  <thead>\n",
       "    <tr style=\"text-align: right;\">\n",
       "      <th></th>\n",
       "      <th>entradas</th>\n",
       "      <th>salidas</th>\n",
       "      <th>neto</th>\n",
       "    </tr>\n",
       "  </thead>\n",
       "  <tbody>\n",
       "    <tr>\n",
       "      <th>ene</th>\n",
       "      <td>11</td>\n",
       "      <td>9</td>\n",
       "      <td>2</td>\n",
       "    </tr>\n",
       "    <tr>\n",
       "      <th>dic</th>\n",
       "      <td>12</td>\n",
       "      <td>14</td>\n",
       "      <td>-2</td>\n",
       "    </tr>\n",
       "  </tbody>\n",
       "</table>\n",
       "</div>"
      ],
      "text/plain": [
       "     entradas  salidas  neto\n",
       "ene        11        9     2\n",
       "dic        12       14    -2"
      ]
     },
     "execution_count": 63,
     "metadata": {},
     "output_type": "execute_result"
    }
   ],
   "source": [
    "almacén.loc[[\"ene\",\"dic\"]]"
   ]
  },
  {
   "cell_type": "code",
   "execution_count": 64,
   "id": "fd44c77f",
   "metadata": {},
   "outputs": [
    {
     "data": {
      "text/html": [
       "<div>\n",
       "<style scoped>\n",
       "    .dataframe tbody tr th:only-of-type {\n",
       "        vertical-align: middle;\n",
       "    }\n",
       "\n",
       "    .dataframe tbody tr th {\n",
       "        vertical-align: top;\n",
       "    }\n",
       "\n",
       "    .dataframe thead th {\n",
       "        text-align: right;\n",
       "    }\n",
       "</style>\n",
       "<table border=\"1\" class=\"dataframe\">\n",
       "  <thead>\n",
       "    <tr style=\"text-align: right;\">\n",
       "      <th></th>\n",
       "      <th>neto</th>\n",
       "    </tr>\n",
       "  </thead>\n",
       "  <tbody>\n",
       "    <tr>\n",
       "      <th>ene</th>\n",
       "      <td>2</td>\n",
       "    </tr>\n",
       "    <tr>\n",
       "      <th>dic</th>\n",
       "      <td>-2</td>\n",
       "    </tr>\n",
       "  </tbody>\n",
       "</table>\n",
       "</div>"
      ],
      "text/plain": [
       "     neto\n",
       "ene     2\n",
       "dic    -2"
      ]
     },
     "execution_count": 64,
     "metadata": {},
     "output_type": "execute_result"
    }
   ],
   "source": [
    "almacén.loc[[\"ene\",\"dic\"],[\"neto\"]]"
   ]
  },
  {
   "cell_type": "code",
   "execution_count": 65,
   "id": "da7aa4bd",
   "metadata": {},
   "outputs": [
    {
     "data": {
      "text/html": [
       "<div>\n",
       "<style scoped>\n",
       "    .dataframe tbody tr th:only-of-type {\n",
       "        vertical-align: middle;\n",
       "    }\n",
       "\n",
       "    .dataframe tbody tr th {\n",
       "        vertical-align: top;\n",
       "    }\n",
       "\n",
       "    .dataframe thead th {\n",
       "        text-align: right;\n",
       "    }\n",
       "</style>\n",
       "<table border=\"1\" class=\"dataframe\">\n",
       "  <thead>\n",
       "    <tr style=\"text-align: right;\">\n",
       "      <th></th>\n",
       "      <th>entradas</th>\n",
       "      <th>salidas</th>\n",
       "      <th>neto</th>\n",
       "    </tr>\n",
       "  </thead>\n",
       "  <tbody>\n",
       "    <tr>\n",
       "      <th>feb</th>\n",
       "      <td>18</td>\n",
       "      <td>26</td>\n",
       "      <td>-8</td>\n",
       "    </tr>\n",
       "    <tr>\n",
       "      <th>mar</th>\n",
       "      <td>12</td>\n",
       "      <td>18</td>\n",
       "      <td>-6</td>\n",
       "    </tr>\n",
       "    <tr>\n",
       "      <th>jun</th>\n",
       "      <td>16</td>\n",
       "      <td>22</td>\n",
       "      <td>-6</td>\n",
       "    </tr>\n",
       "    <tr>\n",
       "      <th>sep</th>\n",
       "      <td>31</td>\n",
       "      <td>34</td>\n",
       "      <td>-3</td>\n",
       "    </tr>\n",
       "    <tr>\n",
       "      <th>dic</th>\n",
       "      <td>12</td>\n",
       "      <td>14</td>\n",
       "      <td>-2</td>\n",
       "    </tr>\n",
       "  </tbody>\n",
       "</table>\n",
       "</div>"
      ],
      "text/plain": [
       "     entradas  salidas  neto\n",
       "feb        18       26    -8\n",
       "mar        12       18    -6\n",
       "jun        16       22    -6\n",
       "sep        31       34    -3\n",
       "dic        12       14    -2"
      ]
     },
     "execution_count": 65,
     "metadata": {},
     "output_type": "execute_result"
    }
   ],
   "source": [
    "almacén[almacén[\"neto\"] < 0]"
   ]
  },
  {
   "cell_type": "code",
   "execution_count": 66,
   "id": "3a68884b",
   "metadata": {},
   "outputs": [
    {
     "data": {
      "text/html": [
       "<div>\n",
       "<style scoped>\n",
       "    .dataframe tbody tr th:only-of-type {\n",
       "        vertical-align: middle;\n",
       "    }\n",
       "\n",
       "    .dataframe tbody tr th {\n",
       "        vertical-align: top;\n",
       "    }\n",
       "\n",
       "    .dataframe thead th {\n",
       "        text-align: right;\n",
       "    }\n",
       "</style>\n",
       "<table border=\"1\" class=\"dataframe\">\n",
       "  <thead>\n",
       "    <tr style=\"text-align: right;\">\n",
       "      <th></th>\n",
       "      <th>entradas</th>\n",
       "      <th>salidas</th>\n",
       "      <th>neto</th>\n",
       "    </tr>\n",
       "  </thead>\n",
       "  <tbody>\n",
       "    <tr>\n",
       "      <th>ene</th>\n",
       "      <td>11</td>\n",
       "      <td>9</td>\n",
       "      <td>2</td>\n",
       "    </tr>\n",
       "    <tr>\n",
       "      <th>abr</th>\n",
       "      <td>16</td>\n",
       "      <td>15</td>\n",
       "      <td>1</td>\n",
       "    </tr>\n",
       "    <tr>\n",
       "      <th>may</th>\n",
       "      <td>9</td>\n",
       "      <td>6</td>\n",
       "      <td>3</td>\n",
       "    </tr>\n",
       "    <tr>\n",
       "      <th>jul</th>\n",
       "      <td>22</td>\n",
       "      <td>19</td>\n",
       "      <td>3</td>\n",
       "    </tr>\n",
       "    <tr>\n",
       "      <th>ago</th>\n",
       "      <td>28</td>\n",
       "      <td>25</td>\n",
       "      <td>3</td>\n",
       "    </tr>\n",
       "    <tr>\n",
       "      <th>sep</th>\n",
       "      <td>31</td>\n",
       "      <td>34</td>\n",
       "      <td>-3</td>\n",
       "    </tr>\n",
       "    <tr>\n",
       "      <th>dic</th>\n",
       "      <td>12</td>\n",
       "      <td>14</td>\n",
       "      <td>-2</td>\n",
       "    </tr>\n",
       "  </tbody>\n",
       "</table>\n",
       "</div>"
      ],
      "text/plain": [
       "     entradas  salidas  neto\n",
       "ene        11        9     2\n",
       "abr        16       15     1\n",
       "may         9        6     3\n",
       "jul        22       19     3\n",
       "ago        28       25     3\n",
       "sep        31       34    -3\n",
       "dic        12       14    -2"
      ]
     },
     "execution_count": 66,
     "metadata": {},
     "output_type": "execute_result"
    }
   ],
   "source": [
    "almacén[(almacén[\"neto\"]<5) & (almacén[\"neto\"]>-5)]"
   ]
  },
  {
   "cell_type": "code",
   "execution_count": 70,
   "id": "fa8a5bc3",
   "metadata": {},
   "outputs": [
    {
     "data": {
      "text/html": [
       "<div>\n",
       "<style scoped>\n",
       "    .dataframe tbody tr th:only-of-type {\n",
       "        vertical-align: middle;\n",
       "    }\n",
       "\n",
       "    .dataframe tbody tr th {\n",
       "        vertical-align: top;\n",
       "    }\n",
       "\n",
       "    .dataframe thead th {\n",
       "        text-align: right;\n",
       "    }\n",
       "</style>\n",
       "<table border=\"1\" class=\"dataframe\">\n",
       "  <thead>\n",
       "    <tr style=\"text-align: right;\">\n",
       "      <th></th>\n",
       "      <th>QuotaAmount</th>\n",
       "      <th>StartDate</th>\n",
       "      <th>OwnerName</th>\n",
       "      <th>Username</th>\n",
       "    </tr>\n",
       "  </thead>\n",
       "  <tbody>\n",
       "    <tr>\n",
       "      <th>9</th>\n",
       "      <td>150000</td>\n",
       "      <td>2016-01-01</td>\n",
       "      <td>Catherine Brown</td>\n",
       "      <td>trailhead16.kojyepokybge@example.com</td>\n",
       "    </tr>\n",
       "    <tr>\n",
       "      <th>10</th>\n",
       "      <td>150000</td>\n",
       "      <td>2016-02-01</td>\n",
       "      <td>Catherine Brown</td>\n",
       "      <td>trailhead16.kojyepokybge@example.com</td>\n",
       "    </tr>\n",
       "    <tr>\n",
       "      <th>11</th>\n",
       "      <td>150000</td>\n",
       "      <td>2016-03-01</td>\n",
       "      <td>Catherine Brown</td>\n",
       "      <td>trailhead16.kojyepokybge@example.com</td>\n",
       "    </tr>\n",
       "  </tbody>\n",
       "</table>\n",
       "</div>"
      ],
      "text/plain": [
       "    QuotaAmount   StartDate        OwnerName  \\\n",
       "9        150000  2016-01-01  Catherine Brown   \n",
       "10       150000  2016-02-01  Catherine Brown   \n",
       "11       150000  2016-03-01  Catherine Brown   \n",
       "\n",
       "                                Username  \n",
       "9   trailhead16.kojyepokybge@example.com  \n",
       "10  trailhead16.kojyepokybge@example.com  \n",
       "11  trailhead16.kojyepokybge@example.com  "
      ]
     },
     "execution_count": 70,
     "metadata": {},
     "output_type": "execute_result"
    }
   ],
   "source": [
    "df[df[\"OwnerName\"].str.contains(\"therine\")]"
   ]
  },
  {
   "cell_type": "markdown",
   "id": "b6f89a15",
   "metadata": {},
   "source": [
    "## Transformación de datos y creación de columnas"
   ]
  },
  {
   "cell_type": "markdown",
   "id": "f1c1059c",
   "metadata": {},
   "source": [
    "### Funciones"
   ]
  },
  {
   "cell_type": "code",
   "execution_count": 87,
   "id": "9fe41c36",
   "metadata": {},
   "outputs": [],
   "source": [
    "def calcularGanancias(entradas):\n",
    "    gastosImp = entradas * random.randint(4,8)\n",
    "    return gastosImp\n",
    "\n",
    "\n",
    "def calcularGanancias2(salidas):\n",
    "    gastosVen = salidas * random.randint(4,8)\n",
    "    return gastosVen\n",
    "\n",
    "\n",
    "def calcularGanancias3(fila):\n",
    "    resultado = fila[\"gananciasSalida\"]-fila[\"gastosEntrada\"]\n",
    "    return resultado"
   ]
  },
  {
   "cell_type": "markdown",
   "id": "70cc1c02",
   "metadata": {},
   "source": [
    "### Aplicación de funciones y creación de columnas"
   ]
  },
  {
   "cell_type": "code",
   "execution_count": 79,
   "id": "77ab8058",
   "metadata": {},
   "outputs": [],
   "source": [
    "almacén[\"gastosEntrada\"] = almacén[\"entradas\"].apply(calcularGanancias)"
   ]
  },
  {
   "cell_type": "code",
   "execution_count": 84,
   "id": "0aba0e5a",
   "metadata": {},
   "outputs": [],
   "source": [
    "almacén[\"gananciasSalida\"] = almacén[\"salidas\"].apply(calcularGanancias2)"
   ]
  },
  {
   "cell_type": "code",
   "execution_count": 88,
   "id": "9e4a5edf",
   "metadata": {},
   "outputs": [],
   "source": [
    "almacén[\"Total\"] = almacén.apply(calcularGanancias3, axis=1)"
   ]
  },
  {
   "cell_type": "code",
   "execution_count": 90,
   "id": "b3fc1af7",
   "metadata": {},
   "outputs": [
    {
     "data": {
      "text/html": [
       "<div>\n",
       "<style scoped>\n",
       "    .dataframe tbody tr th:only-of-type {\n",
       "        vertical-align: middle;\n",
       "    }\n",
       "\n",
       "    .dataframe tbody tr th {\n",
       "        vertical-align: top;\n",
       "    }\n",
       "\n",
       "    .dataframe thead th {\n",
       "        text-align: right;\n",
       "    }\n",
       "</style>\n",
       "<table border=\"1\" class=\"dataframe\">\n",
       "  <thead>\n",
       "    <tr style=\"text-align: right;\">\n",
       "      <th></th>\n",
       "      <th>entradas</th>\n",
       "      <th>salidas</th>\n",
       "      <th>neto</th>\n",
       "      <th>gastosEntrada</th>\n",
       "      <th>gananciasSalida</th>\n",
       "      <th>Total</th>\n",
       "    </tr>\n",
       "  </thead>\n",
       "  <tbody>\n",
       "    <tr>\n",
       "      <th>ene</th>\n",
       "      <td>11</td>\n",
       "      <td>9</td>\n",
       "      <td>2</td>\n",
       "      <td>44</td>\n",
       "      <td>72</td>\n",
       "      <td>28</td>\n",
       "    </tr>\n",
       "    <tr>\n",
       "      <th>feb</th>\n",
       "      <td>18</td>\n",
       "      <td>26</td>\n",
       "      <td>-8</td>\n",
       "      <td>144</td>\n",
       "      <td>208</td>\n",
       "      <td>64</td>\n",
       "    </tr>\n",
       "    <tr>\n",
       "      <th>mar</th>\n",
       "      <td>12</td>\n",
       "      <td>18</td>\n",
       "      <td>-6</td>\n",
       "      <td>84</td>\n",
       "      <td>72</td>\n",
       "      <td>-12</td>\n",
       "    </tr>\n",
       "    <tr>\n",
       "      <th>abr</th>\n",
       "      <td>16</td>\n",
       "      <td>15</td>\n",
       "      <td>1</td>\n",
       "      <td>64</td>\n",
       "      <td>105</td>\n",
       "      <td>41</td>\n",
       "    </tr>\n",
       "    <tr>\n",
       "      <th>may</th>\n",
       "      <td>9</td>\n",
       "      <td>6</td>\n",
       "      <td>3</td>\n",
       "      <td>72</td>\n",
       "      <td>36</td>\n",
       "      <td>-36</td>\n",
       "    </tr>\n",
       "    <tr>\n",
       "      <th>jun</th>\n",
       "      <td>16</td>\n",
       "      <td>22</td>\n",
       "      <td>-6</td>\n",
       "      <td>112</td>\n",
       "      <td>110</td>\n",
       "      <td>-2</td>\n",
       "    </tr>\n",
       "    <tr>\n",
       "      <th>jul</th>\n",
       "      <td>22</td>\n",
       "      <td>19</td>\n",
       "      <td>3</td>\n",
       "      <td>88</td>\n",
       "      <td>95</td>\n",
       "      <td>7</td>\n",
       "    </tr>\n",
       "    <tr>\n",
       "      <th>ago</th>\n",
       "      <td>28</td>\n",
       "      <td>25</td>\n",
       "      <td>3</td>\n",
       "      <td>224</td>\n",
       "      <td>100</td>\n",
       "      <td>-124</td>\n",
       "    </tr>\n",
       "    <tr>\n",
       "      <th>sep</th>\n",
       "      <td>31</td>\n",
       "      <td>34</td>\n",
       "      <td>-3</td>\n",
       "      <td>186</td>\n",
       "      <td>204</td>\n",
       "      <td>18</td>\n",
       "    </tr>\n",
       "    <tr>\n",
       "      <th>oct</th>\n",
       "      <td>29</td>\n",
       "      <td>22</td>\n",
       "      <td>7</td>\n",
       "      <td>203</td>\n",
       "      <td>88</td>\n",
       "      <td>-115</td>\n",
       "    </tr>\n",
       "    <tr>\n",
       "      <th>nov</th>\n",
       "      <td>30</td>\n",
       "      <td>21</td>\n",
       "      <td>9</td>\n",
       "      <td>210</td>\n",
       "      <td>84</td>\n",
       "      <td>-126</td>\n",
       "    </tr>\n",
       "    <tr>\n",
       "      <th>dic</th>\n",
       "      <td>12</td>\n",
       "      <td>14</td>\n",
       "      <td>-2</td>\n",
       "      <td>48</td>\n",
       "      <td>84</td>\n",
       "      <td>36</td>\n",
       "    </tr>\n",
       "  </tbody>\n",
       "</table>\n",
       "</div>"
      ],
      "text/plain": [
       "     entradas  salidas  neto  gastosEntrada  gananciasSalida  Total\n",
       "ene        11        9     2             44               72     28\n",
       "feb        18       26    -8            144              208     64\n",
       "mar        12       18    -6             84               72    -12\n",
       "abr        16       15     1             64              105     41\n",
       "may         9        6     3             72               36    -36\n",
       "jun        16       22    -6            112              110     -2\n",
       "jul        22       19     3             88               95      7\n",
       "ago        28       25     3            224              100   -124\n",
       "sep        31       34    -3            186              204     18\n",
       "oct        29       22     7            203               88   -115\n",
       "nov        30       21     9            210               84   -126\n",
       "dic        12       14    -2             48               84     36"
      ]
     },
     "execution_count": 90,
     "metadata": {},
     "output_type": "execute_result"
    }
   ],
   "source": [
    "almacén"
   ]
  },
  {
   "cell_type": "code",
   "execution_count": 92,
   "id": "07b866f8",
   "metadata": {},
   "outputs": [
    {
     "data": {
      "text/html": [
       "<div>\n",
       "<style scoped>\n",
       "    .dataframe tbody tr th:only-of-type {\n",
       "        vertical-align: middle;\n",
       "    }\n",
       "\n",
       "    .dataframe tbody tr th {\n",
       "        vertical-align: top;\n",
       "    }\n",
       "\n",
       "    .dataframe thead th {\n",
       "        text-align: right;\n",
       "    }\n",
       "</style>\n",
       "<table border=\"1\" class=\"dataframe\">\n",
       "  <thead>\n",
       "    <tr style=\"text-align: right;\">\n",
       "      <th></th>\n",
       "      <th>QuotaAmount</th>\n",
       "    </tr>\n",
       "    <tr>\n",
       "      <th>OwnerName</th>\n",
       "      <th></th>\n",
       "    </tr>\n",
       "  </thead>\n",
       "  <tbody>\n",
       "    <tr>\n",
       "      <th>Catherine Brown</th>\n",
       "      <td>450000</td>\n",
       "    </tr>\n",
       "    <tr>\n",
       "      <th>Chris Riley</th>\n",
       "      <td>450000</td>\n",
       "    </tr>\n",
       "    <tr>\n",
       "      <th>Dennis Howard</th>\n",
       "      <td>450000</td>\n",
       "    </tr>\n",
       "    <tr>\n",
       "      <th>Harold Campbell</th>\n",
       "      <td>450000</td>\n",
       "    </tr>\n",
       "    <tr>\n",
       "      <th>Jessica Nichols</th>\n",
       "      <td>450000</td>\n",
       "    </tr>\n",
       "    <tr>\n",
       "      <th>Kelly Frazier</th>\n",
       "      <td>450000</td>\n",
       "    </tr>\n",
       "  </tbody>\n",
       "</table>\n",
       "</div>"
      ],
      "text/plain": [
       "                 QuotaAmount\n",
       "OwnerName                   \n",
       "Catherine Brown       450000\n",
       "Chris Riley           450000\n",
       "Dennis Howard         450000\n",
       "Harold Campbell       450000\n",
       "Jessica Nichols       450000\n",
       "Kelly Frazier         450000"
      ]
     },
     "execution_count": 92,
     "metadata": {},
     "output_type": "execute_result"
    }
   ],
   "source": [
    "df.groupby(\"OwnerName\").sum(\"QuotaAmount\")"
   ]
  },
  {
   "cell_type": "code",
   "execution_count": 93,
   "id": "d06007d5",
   "metadata": {},
   "outputs": [],
   "source": [
    "agrupamiento = df.groupby(\"OwnerName\").sum(\"QuotaAmount\")"
   ]
  },
  {
   "cell_type": "code",
   "execution_count": 98,
   "id": "ba18fbb0",
   "metadata": {},
   "outputs": [
    {
     "data": {
      "text/html": [
       "<div>\n",
       "<style scoped>\n",
       "    .dataframe tbody tr th:only-of-type {\n",
       "        vertical-align: middle;\n",
       "    }\n",
       "\n",
       "    .dataframe tbody tr th {\n",
       "        vertical-align: top;\n",
       "    }\n",
       "\n",
       "    .dataframe thead th {\n",
       "        text-align: right;\n",
       "    }\n",
       "</style>\n",
       "<table border=\"1\" class=\"dataframe\">\n",
       "  <thead>\n",
       "    <tr style=\"text-align: right;\">\n",
       "      <th></th>\n",
       "      <th>QuotaAmount</th>\n",
       "    </tr>\n",
       "    <tr>\n",
       "      <th>OwnerName</th>\n",
       "      <th></th>\n",
       "    </tr>\n",
       "  </thead>\n",
       "  <tbody>\n",
       "  </tbody>\n",
       "</table>\n",
       "</div>"
      ],
      "text/plain": [
       "Empty DataFrame\n",
       "Columns: [QuotaAmount]\n",
       "Index: []"
      ]
     },
     "execution_count": 98,
     "metadata": {},
     "output_type": "execute_result"
    }
   ],
   "source": [
    "agrupamiento[agrupamiento[\"QuotaAmount\"]<400000]"
   ]
  },
  {
   "cell_type": "markdown",
   "id": "d50f8ad6",
   "metadata": {},
   "source": [
    "## Gráficos"
   ]
  },
  {
   "cell_type": "code",
   "execution_count": 99,
   "id": "2a460576",
   "metadata": {},
   "outputs": [
    {
     "data": {
      "image/png": "[encoded data removed]",
      "text/plain": [
       "<Figure size 432x288 with 1 Axes>"
      ]
     },
     "metadata": {
      "needs_background": "light"
     },
     "output_type": "display_data"
    }
   ],
   "source": [
    "agrupamiento[\"QuotaAmount\"].plot()\n",
    "plt.show()"
   ]
  },
  {
   "cell_type": "code",
   "execution_count": 101,
   "id": "8f857b0c",
   "metadata": {},
   "outputs": [
    {
     "data": {
      "image/png": "[encoded data removed]",
      "text/plain": [
       "<Figure size 432x288 with 1 Axes>"
      ]
     },
     "metadata": {
      "needs_background": "light"
     },
     "output_type": "display_data"
    }
   ],
   "source": [
    "almacén[\"Total\"].plot()\n",
    "plt.show()"
   ]
  },
  {
   "cell_type": "code",
   "execution_count": 102,
   "id": "45598c6f",
   "metadata": {},
   "outputs": [
    {
     "data": {
      "image/png": "[encoded data removed]",
      "text/plain": [
       "<Figure size 432x288 with 1 Axes>"
      ]
     },
     "metadata": {
      "needs_background": "light"
     },
     "output_type": "display_data"
    }
   ],
   "source": [
    "almacén[\"Total\"].plot(kind = \"bar\")\n",
    "plt.show()"
   ]
  },
  {
   "cell_type": "code",
   "execution_count": 112,
   "id": "428dc948",
   "metadata": {},
   "outputs": [
    {
     "data": {
      "image/png": "[encoded data removed]",
      "text/plain": [
       "<Figure size 432x288 with 1 Axes>"
      ]
     },
     "metadata": {
      "needs_background": "light"
     },
     "output_type": "display_data"
    }
   ],
   "source": [
    "almacén[almacén[\"Total\"]>0][\"Total\"].plot(kind = \"bar\")\n",
    "plt.show()"
   ]
  },
  {
   "cell_type": "code",
   "execution_count": 126,
   "id": "feb1b68e",
   "metadata": {},
   "outputs": [
    {
     "data": {
      "text/plain": [
       "<AxesSubplot:xlabel='OwnerName', ylabel='QuotaAmount'>"
      ]
     },
     "execution_count": 126,
     "metadata": {},
     "output_type": "execute_result"
    },
    {
     "data": {
      "image/png": "[encoded data removed]",
      "text/plain": [
       "<Figure size 432x288 with 1 Axes>"
      ]
     },
     "metadata": {
      "needs_background": "light"
     },
     "output_type": "display_data"
    }
   ],
   "source": [
    "df.plot(kind = \"scatter\", x=\"OwnerName\", y = \"QuotaAmount\")"
   ]
  },
  {
   "cell_type": "markdown",
   "id": "e713c4fa",
   "metadata": {},
   "source": [
    "## Guardar Como..."
   ]
  },
  {
   "cell_type": "code",
   "execution_count": 127,
   "id": "1635b8a7",
   "metadata": {},
   "outputs": [],
   "source": [
    "agrupamiento.to_csv(\"agrupamiento.csv\")"
   ]
  }
 ],
 "metadata": {
  "kernelspec": {
   "display_name": "Python 3 (ipykernel)",
   "language": "python",
   "name": "python3"
  },
  "language_info": {
   "codemirror_mode": {
    "name": "ipython",
    "version": 3
   },
   "file_extension": ".py",
   "mimetype": "text/x-python",
   "name": "python",
   "nbconvert_exporter": "python",
   "pygments_lexer": "ipython3",
   "version": "3.9.12"
  }
 },
 "nbformat": 4,
 "nbformat_minor": 5
}
