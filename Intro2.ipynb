{
 "cells": [
  {
   "cell_type": "code",
   "execution_count": 1,
   "id": "ecc80a91",
   "metadata": {},
   "outputs": [],
   "source": [
    "import numpy as np\n",
    "import pandas as pd\n",
    "import random\n",
    "import matplotlib.pyplot as plt"
   ]
  },
  {
   "cell_type": "code",
   "execution_count": 2,
   "id": "42b7010c",
   "metadata": {},
   "outputs": [],
   "source": [
    "df = pd.read_csv(\"Data/cms_medicare.csv\")"
   ]
  },
  {
   "cell_type": "code",
   "execution_count": 3,
   "id": "66f821dd",
   "metadata": {},
   "outputs": [
    {
     "data": {
      "text/html": [
       "<div>\n",
       "<style scoped>\n",
       "    .dataframe tbody tr th:only-of-type {\n",
       "        vertical-align: middle;\n",
       "    }\n",
       "\n",
       "    .dataframe tbody tr th {\n",
       "        vertical-align: top;\n",
       "    }\n",
       "\n",
       "    .dataframe thead th {\n",
       "        text-align: right;\n",
       "    }\n",
       "</style>\n",
       "<table border=\"1\" class=\"dataframe\">\n",
       "  <thead>\n",
       "    <tr style=\"text-align: right;\">\n",
       "      <th></th>\n",
       "      <th>provider_id</th>\n",
       "      <th>agency_name</th>\n",
       "      <th>street_address</th>\n",
       "      <th>city</th>\n",
       "      <th>state</th>\n",
       "      <th>zip_code</th>\n",
       "      <th>total_episodes_non_lupa</th>\n",
       "      <th>distinct_users_non_lupa</th>\n",
       "    </tr>\n",
       "  </thead>\n",
       "  <tbody>\n",
       "    <tr>\n",
       "      <th>0</th>\n",
       "      <td>337290</td>\n",
       "      <td>AMERICARE CERTIFIED SPECIAL SERVICES, INC CHHA</td>\n",
       "      <td>5923 STRICKLAND AVENUE</td>\n",
       "      <td>BROOKLYN</td>\n",
       "      <td>NY</td>\n",
       "      <td>11234</td>\n",
       "      <td>3148</td>\n",
       "      <td>2310</td>\n",
       "    </tr>\n",
       "    <tr>\n",
       "      <th>1</th>\n",
       "      <td>58217</td>\n",
       "      <td>BRADBOURNE HEALTHCARE, INC</td>\n",
       "      <td>16029 ARROW HIGHWAY SUITE A</td>\n",
       "      <td>IRWINDALE</td>\n",
       "      <td>CA</td>\n",
       "      <td>91706</td>\n",
       "      <td>620</td>\n",
       "      <td>297</td>\n",
       "    </tr>\n",
       "    <tr>\n",
       "      <th>2</th>\n",
       "      <td>58419</td>\n",
       "      <td>INSIGHT HEALTH CARE PROVIDERS, INC</td>\n",
       "      <td>500 S KRAEMER BLVD, #240</td>\n",
       "      <td>BREA</td>\n",
       "      <td>CA</td>\n",
       "      <td>92821</td>\n",
       "      <td>19</td>\n",
       "      <td>15</td>\n",
       "    </tr>\n",
       "    <tr>\n",
       "      <th>3</th>\n",
       "      <td>108167</td>\n",
       "      <td>D &amp; N HOME HEALTH SERVICES, INC.</td>\n",
       "      <td>1140 W 50 ST STE 305</td>\n",
       "      <td>HIALEAH</td>\n",
       "      <td>FL</td>\n",
       "      <td>33012</td>\n",
       "      <td>208</td>\n",
       "      <td>63</td>\n",
       "    </tr>\n",
       "    <tr>\n",
       "      <th>4</th>\n",
       "      <td>109023</td>\n",
       "      <td>PSN HEALTH CARE CORP</td>\n",
       "      <td>17670 NW 78 AVE   STE 213</td>\n",
       "      <td>MIAMI GARDENS</td>\n",
       "      <td>FL</td>\n",
       "      <td>33015</td>\n",
       "      <td>59</td>\n",
       "      <td>18</td>\n",
       "    </tr>\n",
       "    <tr>\n",
       "      <th>...</th>\n",
       "      <td>...</td>\n",
       "      <td>...</td>\n",
       "      <td>...</td>\n",
       "      <td>...</td>\n",
       "      <td>...</td>\n",
       "      <td>...</td>\n",
       "      <td>...</td>\n",
       "      <td>...</td>\n",
       "    </tr>\n",
       "    <tr>\n",
       "      <th>395</th>\n",
       "      <td>117022</td>\n",
       "      <td>SUNCREST HOME HEALTH</td>\n",
       "      <td>7840 ROSWELL ROAD, BLDG 100, SUITE 215</td>\n",
       "      <td>ATLANTA</td>\n",
       "      <td>GA</td>\n",
       "      <td>30350</td>\n",
       "      <td>478</td>\n",
       "      <td>389</td>\n",
       "    </tr>\n",
       "    <tr>\n",
       "      <th>396</th>\n",
       "      <td>117023</td>\n",
       "      <td>CENTRAL GEORGIA HOME HEALTH</td>\n",
       "      <td>3780 EISENHOWER PARKWAY</td>\n",
       "      <td>MACON</td>\n",
       "      <td>GA</td>\n",
       "      <td>31206</td>\n",
       "      <td>1980</td>\n",
       "      <td>1508</td>\n",
       "    </tr>\n",
       "    <tr>\n",
       "      <th>397</th>\n",
       "      <td>117025</td>\n",
       "      <td>TRINITY HOME HEALTH</td>\n",
       "      <td>1501 ANTHONY ROAD</td>\n",
       "      <td>AUGUSTA</td>\n",
       "      <td>GA</td>\n",
       "      <td>30904</td>\n",
       "      <td>956</td>\n",
       "      <td>590</td>\n",
       "    </tr>\n",
       "    <tr>\n",
       "      <th>398</th>\n",
       "      <td>117027</td>\n",
       "      <td>GENTIVA HEALTH SERVICES</td>\n",
       "      <td>1575 NORTHSIDE DRIVE NW SUITE 470</td>\n",
       "      <td>ATLANTA</td>\n",
       "      <td>GA</td>\n",
       "      <td>30318</td>\n",
       "      <td>4884</td>\n",
       "      <td>3342</td>\n",
       "    </tr>\n",
       "    <tr>\n",
       "      <th>399</th>\n",
       "      <td>117031</td>\n",
       "      <td>UNIVERSITY HOME HEALTH</td>\n",
       "      <td>4106 COLUMBIA ROAD, SUITE 102</td>\n",
       "      <td>MARTINEZ</td>\n",
       "      <td>GA</td>\n",
       "      <td>30907</td>\n",
       "      <td>522</td>\n",
       "      <td>459</td>\n",
       "    </tr>\n",
       "  </tbody>\n",
       "</table>\n",
       "<p>400 rows × 8 columns</p>\n",
       "</div>"
      ],
      "text/plain": [
       "     provider_id                                     agency_name  \\\n",
       "0         337290  AMERICARE CERTIFIED SPECIAL SERVICES, INC CHHA   \n",
       "1          58217                      BRADBOURNE HEALTHCARE, INC   \n",
       "2          58419              INSIGHT HEALTH CARE PROVIDERS, INC   \n",
       "3         108167                D & N HOME HEALTH SERVICES, INC.   \n",
       "4         109023                            PSN HEALTH CARE CORP   \n",
       "..           ...                                             ...   \n",
       "395       117022                            SUNCREST HOME HEALTH   \n",
       "396       117023                     CENTRAL GEORGIA HOME HEALTH   \n",
       "397       117025                             TRINITY HOME HEALTH   \n",
       "398       117027                         GENTIVA HEALTH SERVICES   \n",
       "399       117031                          UNIVERSITY HOME HEALTH   \n",
       "\n",
       "                             street_address           city state  zip_code  \\\n",
       "0                    5923 STRICKLAND AVENUE       BROOKLYN    NY     11234   \n",
       "1               16029 ARROW HIGHWAY SUITE A      IRWINDALE    CA     91706   \n",
       "2                  500 S KRAEMER BLVD, #240           BREA    CA     92821   \n",
       "3                      1140 W 50 ST STE 305        HIALEAH    FL     33012   \n",
       "4                 17670 NW 78 AVE   STE 213  MIAMI GARDENS    FL     33015   \n",
       "..                                      ...            ...   ...       ...   \n",
       "395  7840 ROSWELL ROAD, BLDG 100, SUITE 215        ATLANTA    GA     30350   \n",
       "396                 3780 EISENHOWER PARKWAY          MACON    GA     31206   \n",
       "397                       1501 ANTHONY ROAD        AUGUSTA    GA     30904   \n",
       "398       1575 NORTHSIDE DRIVE NW SUITE 470        ATLANTA    GA     30318   \n",
       "399           4106 COLUMBIA ROAD, SUITE 102       MARTINEZ    GA     30907   \n",
       "\n",
       "     total_episodes_non_lupa  distinct_users_non_lupa  \n",
       "0                       3148                     2310  \n",
       "1                        620                      297  \n",
       "2                         19                       15  \n",
       "3                        208                       63  \n",
       "4                         59                       18  \n",
       "..                       ...                      ...  \n",
       "395                      478                      389  \n",
       "396                     1980                     1508  \n",
       "397                      956                      590  \n",
       "398                     4884                     3342  \n",
       "399                      522                      459  \n",
       "\n",
       "[400 rows x 8 columns]"
      ]
     },
     "execution_count": 3,
     "metadata": {},
     "output_type": "execute_result"
    }
   ],
   "source": [
    "df"
   ]
  },
  {
   "cell_type": "code",
   "execution_count": 4,
   "id": "d978ae92",
   "metadata": {},
   "outputs": [
    {
     "data": {
      "text/plain": [
       "(400, 8)"
      ]
     },
     "execution_count": 4,
     "metadata": {},
     "output_type": "execute_result"
    }
   ],
   "source": [
    "df.shape"
   ]
  },
  {
   "cell_type": "code",
   "execution_count": 9,
   "id": "be21fb17",
   "metadata": {},
   "outputs": [
    {
     "data": {
      "text/plain": [
       "int64     4\n",
       "object    4\n",
       "dtype: int64"
      ]
     },
     "execution_count": 9,
     "metadata": {},
     "output_type": "execute_result"
    }
   ],
   "source": [
    "df.dtypes.value_counts()"
   ]
  },
  {
   "cell_type": "code",
   "execution_count": 13,
   "id": "091dbe23",
   "metadata": {},
   "outputs": [],
   "source": [
    "df2 = df['agency_name'].str.count(' ')"
   ]
  },
  {
   "cell_type": "code",
   "execution_count": 29,
   "id": "bb58caad",
   "metadata": {},
   "outputs": [
    {
     "data": {
      "text/plain": [
       "3949.6666666666665"
      ]
     },
     "execution_count": 29,
     "metadata": {},
     "output_type": "execute_result"
    }
   ],
   "source": [
    "df[df[\"city\"].str.contains(\"ATLANTA\")][\"total_episodes_non_lupa\"].mean()"
   ]
  },
  {
   "cell_type": "code",
   "execution_count": 26,
   "id": "ec2d3bba",
   "metadata": {},
   "outputs": [
    {
     "data": {
      "text/html": [
       "<div>\n",
       "<style scoped>\n",
       "    .dataframe tbody tr th:only-of-type {\n",
       "        vertical-align: middle;\n",
       "    }\n",
       "\n",
       "    .dataframe tbody tr th {\n",
       "        vertical-align: top;\n",
       "    }\n",
       "\n",
       "    .dataframe thead th {\n",
       "        text-align: right;\n",
       "    }\n",
       "</style>\n",
       "<table border=\"1\" class=\"dataframe\">\n",
       "  <thead>\n",
       "    <tr style=\"text-align: right;\">\n",
       "      <th></th>\n",
       "      <th>provider_id</th>\n",
       "      <th>agency_name</th>\n",
       "      <th>street_address</th>\n",
       "      <th>city</th>\n",
       "      <th>state</th>\n",
       "      <th>zip_code</th>\n",
       "      <th>total_episodes_non_lupa</th>\n",
       "      <th>distinct_users_non_lupa</th>\n",
       "    </tr>\n",
       "  </thead>\n",
       "  <tbody>\n",
       "    <tr>\n",
       "      <th>388</th>\n",
       "      <td>117000</td>\n",
       "      <td>VISITING NURSE HEALTH SYSTEM</td>\n",
       "      <td>5775 GLENRIDGE DRIVE, NE,  SUITE E200</td>\n",
       "      <td>ATLANTA</td>\n",
       "      <td>GA</td>\n",
       "      <td>30328</td>\n",
       "      <td>6487</td>\n",
       "      <td>5012</td>\n",
       "    </tr>\n",
       "    <tr>\n",
       "      <th>395</th>\n",
       "      <td>117022</td>\n",
       "      <td>SUNCREST HOME HEALTH</td>\n",
       "      <td>7840 ROSWELL ROAD, BLDG 100, SUITE 215</td>\n",
       "      <td>ATLANTA</td>\n",
       "      <td>GA</td>\n",
       "      <td>30350</td>\n",
       "      <td>478</td>\n",
       "      <td>389</td>\n",
       "    </tr>\n",
       "    <tr>\n",
       "      <th>398</th>\n",
       "      <td>117027</td>\n",
       "      <td>GENTIVA HEALTH SERVICES</td>\n",
       "      <td>1575 NORTHSIDE DRIVE NW SUITE 470</td>\n",
       "      <td>ATLANTA</td>\n",
       "      <td>GA</td>\n",
       "      <td>30318</td>\n",
       "      <td>4884</td>\n",
       "      <td>3342</td>\n",
       "    </tr>\n",
       "  </tbody>\n",
       "</table>\n",
       "</div>"
      ],
      "text/plain": [
       "     provider_id                   agency_name  \\\n",
       "388       117000  VISITING NURSE HEALTH SYSTEM   \n",
       "395       117022          SUNCREST HOME HEALTH   \n",
       "398       117027       GENTIVA HEALTH SERVICES   \n",
       "\n",
       "                             street_address     city state  zip_code  \\\n",
       "388   5775 GLENRIDGE DRIVE, NE,  SUITE E200  ATLANTA    GA     30328   \n",
       "395  7840 ROSWELL ROAD, BLDG 100, SUITE 215  ATLANTA    GA     30350   \n",
       "398       1575 NORTHSIDE DRIVE NW SUITE 470  ATLANTA    GA     30318   \n",
       "\n",
       "     total_episodes_non_lupa  distinct_users_non_lupa  \n",
       "388                     6487                     5012  \n",
       "395                      478                      389  \n",
       "398                     4884                     3342  "
      ]
     },
     "execution_count": 26,
     "metadata": {},
     "output_type": "execute_result"
    }
   ],
   "source": [
    "df[df[\"city\"].str.contains(\"ATLANTA\")]"
   ]
  },
  {
   "cell_type": "code",
   "execution_count": 87,
   "id": "c0a487cd",
   "metadata": {},
   "outputs": [
    {
     "data": {
      "text/plain": [
       "sum     11849.000000\n",
       "mean     3949.666667\n",
       "max      6487.000000\n",
       "Name: total_episodes_non_lupa, dtype: float64"
      ]
     },
     "execution_count": 87,
     "metadata": {},
     "output_type": "execute_result"
    }
   ],
   "source": [
    "df[df[\"city\"].str.contains(\"ATLANTA\")][\"total_episodes_non_lupa\"].agg(['sum','mean','max'])"
   ]
  },
  {
   "cell_type": "markdown",
   "id": "76bfeb86",
   "metadata": {},
   "source": [
    "## Guardar columnas en una variable"
   ]
  },
  {
   "cell_type": "code",
   "execution_count": 88,
   "id": "2be983c3",
   "metadata": {},
   "outputs": [],
   "source": [
    "columas = ['agency_name', 'city', 'total_episodes_non_lupa']"
   ]
  },
  {
   "cell_type": "code",
   "execution_count": 92,
   "id": "b4a81376",
   "metadata": {},
   "outputs": [],
   "source": [
    "dfColum = df[columas]"
   ]
  },
  {
   "cell_type": "code",
   "execution_count": 93,
   "id": "f001e9c5",
   "metadata": {},
   "outputs": [
    {
     "data": {
      "text/html": [
       "<div>\n",
       "<style scoped>\n",
       "    .dataframe tbody tr th:only-of-type {\n",
       "        vertical-align: middle;\n",
       "    }\n",
       "\n",
       "    .dataframe tbody tr th {\n",
       "        vertical-align: top;\n",
       "    }\n",
       "\n",
       "    .dataframe thead th {\n",
       "        text-align: right;\n",
       "    }\n",
       "</style>\n",
       "<table border=\"1\" class=\"dataframe\">\n",
       "  <thead>\n",
       "    <tr style=\"text-align: right;\">\n",
       "      <th></th>\n",
       "      <th>agency_name</th>\n",
       "      <th>city</th>\n",
       "      <th>total_episodes_non_lupa</th>\n",
       "    </tr>\n",
       "  </thead>\n",
       "  <tbody>\n",
       "    <tr>\n",
       "      <th>0</th>\n",
       "      <td>AMERICARE CERTIFIED SPECIAL SERVICES, INC CHHA</td>\n",
       "      <td>BROOKLYN</td>\n",
       "      <td>3148</td>\n",
       "    </tr>\n",
       "    <tr>\n",
       "      <th>1</th>\n",
       "      <td>BRADBOURNE HEALTHCARE, INC</td>\n",
       "      <td>IRWINDALE</td>\n",
       "      <td>620</td>\n",
       "    </tr>\n",
       "    <tr>\n",
       "      <th>2</th>\n",
       "      <td>INSIGHT HEALTH CARE PROVIDERS, INC</td>\n",
       "      <td>BREA</td>\n",
       "      <td>19</td>\n",
       "    </tr>\n",
       "    <tr>\n",
       "      <th>3</th>\n",
       "      <td>D &amp; N HOME HEALTH SERVICES, INC.</td>\n",
       "      <td>HIALEAH</td>\n",
       "      <td>208</td>\n",
       "    </tr>\n",
       "    <tr>\n",
       "      <th>4</th>\n",
       "      <td>PSN HEALTH CARE CORP</td>\n",
       "      <td>MIAMI GARDENS</td>\n",
       "      <td>59</td>\n",
       "    </tr>\n",
       "    <tr>\n",
       "      <th>...</th>\n",
       "      <td>...</td>\n",
       "      <td>...</td>\n",
       "      <td>...</td>\n",
       "    </tr>\n",
       "    <tr>\n",
       "      <th>395</th>\n",
       "      <td>SUNCREST HOME HEALTH</td>\n",
       "      <td>ATLANTA</td>\n",
       "      <td>478</td>\n",
       "    </tr>\n",
       "    <tr>\n",
       "      <th>396</th>\n",
       "      <td>CENTRAL GEORGIA HOME HEALTH</td>\n",
       "      <td>MACON</td>\n",
       "      <td>1980</td>\n",
       "    </tr>\n",
       "    <tr>\n",
       "      <th>397</th>\n",
       "      <td>TRINITY HOME HEALTH</td>\n",
       "      <td>AUGUSTA</td>\n",
       "      <td>956</td>\n",
       "    </tr>\n",
       "    <tr>\n",
       "      <th>398</th>\n",
       "      <td>GENTIVA HEALTH SERVICES</td>\n",
       "      <td>ATLANTA</td>\n",
       "      <td>4884</td>\n",
       "    </tr>\n",
       "    <tr>\n",
       "      <th>399</th>\n",
       "      <td>UNIVERSITY HOME HEALTH</td>\n",
       "      <td>MARTINEZ</td>\n",
       "      <td>522</td>\n",
       "    </tr>\n",
       "  </tbody>\n",
       "</table>\n",
       "<p>400 rows × 3 columns</p>\n",
       "</div>"
      ],
      "text/plain": [
       "                                        agency_name           city  \\\n",
       "0    AMERICARE CERTIFIED SPECIAL SERVICES, INC CHHA       BROOKLYN   \n",
       "1                        BRADBOURNE HEALTHCARE, INC      IRWINDALE   \n",
       "2                INSIGHT HEALTH CARE PROVIDERS, INC           BREA   \n",
       "3                  D & N HOME HEALTH SERVICES, INC.        HIALEAH   \n",
       "4                              PSN HEALTH CARE CORP  MIAMI GARDENS   \n",
       "..                                              ...            ...   \n",
       "395                            SUNCREST HOME HEALTH        ATLANTA   \n",
       "396                     CENTRAL GEORGIA HOME HEALTH          MACON   \n",
       "397                             TRINITY HOME HEALTH        AUGUSTA   \n",
       "398                         GENTIVA HEALTH SERVICES        ATLANTA   \n",
       "399                          UNIVERSITY HOME HEALTH       MARTINEZ   \n",
       "\n",
       "     total_episodes_non_lupa  \n",
       "0                       3148  \n",
       "1                        620  \n",
       "2                         19  \n",
       "3                        208  \n",
       "4                         59  \n",
       "..                       ...  \n",
       "395                      478  \n",
       "396                     1980  \n",
       "397                      956  \n",
       "398                     4884  \n",
       "399                      522  \n",
       "\n",
       "[400 rows x 3 columns]"
      ]
     },
     "execution_count": 93,
     "metadata": {},
     "output_type": "execute_result"
    }
   ],
   "source": [
    "dfColum"
   ]
  },
  {
   "cell_type": "code",
   "execution_count": 95,
   "id": "1cdedb2c",
   "metadata": {},
   "outputs": [
    {
     "data": {
      "text/plain": [
       "(400, 3)"
      ]
     },
     "execution_count": 95,
     "metadata": {},
     "output_type": "execute_result"
    }
   ],
   "source": [
    "dfColum.shape"
   ]
  },
  {
   "cell_type": "code",
   "execution_count": null,
   "id": "fdedc7cd",
   "metadata": {},
   "outputs": [],
   "source": []
  }
 ],
 "metadata": {
  "kernelspec": {
   "display_name": "Python 3 (ipykernel)",
   "language": "python",
   "name": "python3"
  },
  "language_info": {
   "codemirror_mode": {
    "name": "ipython",
    "version": 3
   },
   "file_extension": ".py",
   "mimetype": "text/x-python",
   "name": "python",
   "nbconvert_exporter": "python",
   "pygments_lexer": "ipython3",
   "version": "3.9.12"
  }
 },
 "nbformat": 4,
 "nbformat_minor": 5
}
